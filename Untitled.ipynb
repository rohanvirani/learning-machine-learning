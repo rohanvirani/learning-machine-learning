{
 "cells": [
  {
   "cell_type": "code",
   "execution_count": 1,
   "metadata": {},
   "outputs": [],
   "source": [
    "import torch\n",
    "import numpy as np\n",
    "import matplotlib.pyplot as plt\n",
    "import torch.nn.functional as F\n",
    "import pandas as pd"
   ]
  },
  {
   "cell_type": "code",
   "execution_count": 2,
   "metadata": {},
   "outputs": [
    {
     "name": "stdout",
     "output_type": "stream",
     "text": [
      "    symbol interval       openTime     open     high      low    close  \\\n",
      "0  BTCUSDT       1m  1525916940000  9320.00  9323.00  9317.36  9317.38   \n",
      "1  BTCUSDT       1m  1525917000000  9322.17  9322.17  9317.38  9322.17   \n",
      "2  BTCUSDT       1m  1525917060000  9317.38  9321.00  9311.11  9315.00   \n",
      "3  BTCUSDT       1m  1525917120000  9314.98  9315.00  9311.16  9314.98   \n",
      "4  BTCUSDT       1m  1525917180000  9314.98  9314.99  9308.58  9313.00   \n",
      "\n",
      "      volume      closeTime  quoteAssetVolume  trades  baseAssetVolume  \n",
      "0  10.119046  1525916999999      70150.071657      69         7.525355  \n",
      "1   8.146668  1525917059999      57162.915003      59         6.132797  \n",
      "2   9.031244  1525917119999      49845.846513      80         5.350805  \n",
      "3  16.624334  1525917179999     131878.645994      66        14.157843  \n",
      "4  14.399353  1525917239999      94041.092660     106        10.097646  \n"
     ]
    }
   ],
   "source": [
    "df = pd.read_csv(\"~/Downloads/BTCUSDT_1M_500000.csv\")\n",
    "print(df.head())"
   ]
  },
  {
   "cell_type": "code",
   "execution_count": 3,
   "metadata": {},
   "outputs": [
    {
     "name": "stdout",
     "output_type": "stream",
     "text": [
      "tensor([[2.4105, 2.4119, 2.4088,  ..., 0.0118, 0.0129, 0.0077]])\n"
     ]
    }
   ],
   "source": [
    "rdf = torch.Tensor(np.array(df[['open']]))\n",
    "rdf = (rdf-rdf.mean(0))/rdf.std()\n",
    "rdf = rdf.reshape(-1,500000)\n",
    "print(rdf)"
   ]
  },
  {
   "cell_type": "code",
   "execution_count": 4,
   "metadata": {},
   "outputs": [],
   "source": [
    "m=450000\n",
    "x_train = rdf[:,:m]\n",
    "x_test = rdf[:,m:]"
   ]
  },
  {
   "cell_type": "code",
   "execution_count": 5,
   "metadata": {},
   "outputs": [],
   "source": [
    "class RNN(torch.nn.Module):\n",
    "    def __init__(self, input_size, hidden_size, output_size=1, n_layers=1):\n",
    "        super().__init__()\n",
    "        self.input_size = input_size\n",
    "        self.hidden_size = hidden_size\n",
    "        self.output_size = output_size\n",
    "        self.n_layers = n_layers\n",
    "        self.rnn = torch.nn.LSTM(input_size,hidden_size, n_layers, batch_first=True)\n",
    "        self.linear = torch.nn.Linear(hidden_size, output_size)\n",
    "    def forward(self, x):\n",
    "        output, hidden = self.rnn(x.view(len(x),1,-1))\n",
    "        y_pred = self.linear(output[-1].view(1,-1))\n",
    "        return y_pred.view(-1)\n",
    "    def init_hidden(self):\n",
    "        return(torch.zeros(self.n_layers, 1, self.hidden_size),torch.zeros(self.n_layers, 1, self.hidden_size))\n"
   ]
  },
  {
   "cell_type": "code",
   "execution_count": 6,
   "metadata": {},
   "outputs": [],
   "source": [
    "lr = 0.001\n",
    "no_epochs = 2\n",
    "model = RNN(450000, 512, 50000,1)\n",
    "criterion = torch.nn.MSELoss()\n",
    "optimizer = torch.optim.Adam(model.parameters(), lr=lr)\n"
   ]
  },
  {
   "cell_type": "code",
   "execution_count": 11,
   "metadata": {},
   "outputs": [
    {
     "data": {
      "image/png": "[encoded data removed]",
      "text/plain": [
       "<matplotlib.figure.Figure at 0x11b472668>"
      ]
     },
     "metadata": {},
     "output_type": "display_data"
    },
    {
     "name": "stdout",
     "output_type": "stream",
     "text": [
      "tensor(0.3386, grad_fn=<MseLossBackward>)\n",
      "tensor(0.2949, grad_fn=<MseLossBackward>)\n",
      "Epoch 2 Cost tensor(0.2949, grad_fn=<MseLossBackward>)\n"
     ]
    }
   ],
   "source": [
    "costs = []\n",
    "plt.ion()\n",
    "fig=plt.figure()\n",
    "ax = fig.add_subplot(111)\n",
    "ax.set_xlabel('Epoch')\n",
    "ax.set_ylabel('Cost')\n",
    "ax.set_xlim(0,no_epochs-1)\n",
    "plt.show()\n",
    "\n",
    "def train(no_epochs):\n",
    "    for epoch in range(no_epochs):\n",
    "        h = model.init_hidden()\n",
    "        out = model.forward(x_train)\n",
    "        out.view(-1,50000,1)\n",
    "        out = out.unsqueeze(0)\n",
    "        cost = criterion(out,x_test)\n",
    "        print(cost)\n",
    "        optimizer.zero_grad()\n",
    "        cost.backward()\n",
    "        optimizer.step()\n",
    "        costs.append(cost.item())\n",
    "    ax.plot(costs,'b')\n",
    "    fig.canvas.draw()\n",
    "    print('Epoch', epoch+1, 'Cost', cost)\n",
    "train(no_epochs)\n",
    "                "
   ]
  },
  {
   "cell_type": "code",
   "execution_count": 15,
   "metadata": {},
   "outputs": [
    {
     "data": {
      "text/plain": [
       "[<matplotlib.lines.Line2D at 0x11bbc67b8>]"
      ]
     },
     "execution_count": 15,
     "metadata": {},
     "output_type": "execute_result"
    },
    {
     "data": {
      "image/png": "[encoded data removed]",
      "text/plain": [
       "<matplotlib.figure.Figure at 0x11ba69a90>"
      ]
     },
     "metadata": {},
     "output_type": "display_data"
    }
   ],
   "source": []
  },
  {
   "cell_type": "code",
   "execution_count": null,
   "metadata": {},
   "outputs": [],
   "source": []
  }
 ],
 "metadata": {
  "kernelspec": {
   "display_name": "Python 3",
   "language": "python",
   "name": "python3"
  },
  "language_info": {
   "codemirror_mode": {
    "name": "ipython",
    "version": 3
   },
   "file_extension": ".py",
   "mimetype": "text/x-python",
   "name": "python",
   "nbconvert_exporter": "python",
   "pygments_lexer": "ipython3",
   "version": "3.6.4"
  }
 },
 "nbformat": 4,
 "nbformat_minor": 2
}
